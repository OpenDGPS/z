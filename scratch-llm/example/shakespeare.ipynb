{
 "cells": [
  {
   "cell_type": "code",
   "execution_count": 1,
   "metadata": {},
   "outputs": [],
   "source": [
    "%load_ext autoreload\n",
    "%autoreload 2"
   ]
  },
  {
   "cell_type": "code",
   "execution_count": 2,
   "metadata": {},
   "outputs": [
    {
     "name": "stdout",
     "output_type": "stream",
     "text": [
      "/home/rene/Development/LLM/z/scratch-llm\n"
     ]
    }
   ],
   "source": [
    "!pwd"
   ]
  },
  {
   "cell_type": "code",
   "execution_count": 1,
   "metadata": {},
   "outputs": [
    {
     "name": "stdout",
     "output_type": "stream",
     "text": [
      "pytorch version: 2.1.0.post301\n"
     ]
    }
   ],
   "source": [
    "import sys\n",
    "\n",
    "sys.path.append(\"..\")\n",
    "\n",
    "from pathlib import Path\n",
    "import matplotlib.pyplot as plt\n",
    "import torch\n",
    "\n",
    "from model.llm import LLM\n",
    "from model.tokenizer import Tokenizer, train_tokenizer\n",
    "\n",
    "from helpers.dataset import NextTokenPredictionDataset\n",
    "from helpers.trainer import train\n",
    "from helpers.config import LLMConfig, TrainingConfig, get_device\n",
    "\n",
    "\n",
    "print(f\"pytorch version: {torch.__version__}\")"
   ]
  },
  {
   "cell_type": "code",
   "execution_count": 2,
   "metadata": {},
   "outputs": [],
   "source": [
    "llm_config = LLMConfig(\n",
    "    vocab_size=18_000, # 2_000\n",
    "    context_size=256, # 64\n",
    "    dim_emb=3072, # 256\n",
    "    num_layers=7, # 4\n",
    "    num_heads=8,\n",
    "    emb_dropout=0.0,\n",
    "    ffd_dim_hidden=4 * 512,\n",
    "    ffd_bias=False,\n",
    ")\n",
    "\n",
    "train_config = TrainingConfig(\n",
    "    retrain_tokenizer=False,\n",
    "    device=get_device(),\n",
    "    batch_size=32, # 64\n",
    "    learning_rate=3e-4,\n",
    "    weight_decay=1e-5,\n",
    "    max_steps=1000, # 3_000, # 4_000\n",
    "    log_frequency=1,\n",
    ")"
   ]
  },
  {
   "cell_type": "code",
   "execution_count": 3,
   "metadata": {},
   "outputs": [],
   "source": [
    "input_file = \"data/shakespeare/simonyi.txt\"\n",
    "output_file = Path(input_file).with_suffix(\".model\")\n",
    "\n",
    "if not output_file.exists() or train_config.retrain_tokenizer:\n",
    "    train_tokenizer(input_file, llm_config.vocab_size)\n",
    "\n",
    "tokenizer = Tokenizer(str(output_file))"
   ]
  },
  {
   "cell_type": "code",
   "execution_count": 4,
   "metadata": {},
   "outputs": [
    {
     "data": {
      "text/plain": [
       "[34]"
      ]
     },
     "execution_count": 4,
     "metadata": {},
     "output_type": "execute_result"
    }
   ],
   "source": [
    "tokenizer.sp.encode(\"auf\")"
   ]
  },
  {
   "cell_type": "code",
   "execution_count": 5,
   "metadata": {},
   "outputs": [
    {
     "name": "stdout",
     "output_type": "stream",
     "text": [
      "['▁The', '▁', 'ro', 'le', '▁of', '▁the', '▁t', 'o', 'k', 'en', 'iz', 'er', '▁', 'is', '▁t', 'o', '▁b', 'u', 'il', 'd', '▁a', '▁', 'ma', 'pp', 'ing', '▁be', 't', 'w', 'e', 'en', '▁a', '▁s', 'en', 'ten', 'c', 'es', '▁re', 'p', 'r', 'es', 'en', 'te', 'd', '▁a', 's', '▁a', '▁', 'st', 'ring', '▁', 'and', '▁t', 'o', 'k', 'en', '▁in', 'd', 'ic', 'es']\n"
     ]
    }
   ],
   "source": [
    "sentence = (\n",
    "    \"The role of the tokenizer is to build a mapping between a sentences represented as a string and token indices\"\n",
    ")\n",
    "print(tokenizer.sp.EncodeAsPieces(sentence))\n",
    "\n",
    "assert tokenizer.decode(tokenizer.encode(sentence)) == sentence"
   ]
  },
  {
   "cell_type": "code",
   "execution_count": 6,
   "metadata": {},
   "outputs": [
    {
     "name": "stdout",
     "output_type": "stream",
     "text": [
      "torch.Size([8, 256]) torch.Size([8, 256])\n"
     ]
    }
   ],
   "source": [
    "# This helper class allow to generate batches of inputs and targets where targets last element is the next token to predict\n",
    "ds_train = NextTokenPredictionDataset(input_file, llm_config.context_size, tokenizer)\n",
    "\n",
    "X, y = ds_train.get_batch(batch_size=8)\n",
    "\n",
    "print(X.shape, y.shape)"
   ]
  },
  {
   "cell_type": "code",
   "execution_count": 7,
   "metadata": {},
   "outputs": [
    {
     "name": "stdout",
     "output_type": "stream",
     "text": [
      "total params: 423,406,544\n",
      "model size: 1620.855MB\n"
     ]
    }
   ],
   "source": [
    "model = LLM(\n",
    "    vocab_size=tokenizer.vocab_size,\n",
    "    context_size=llm_config.context_size,\n",
    "    dim_emb=llm_config.dim_emb,\n",
    "    num_layers=llm_config.num_layers,\n",
    "    attn_num_heads=llm_config.num_heads,\n",
    "    emb_dropout=llm_config.emb_dropout,\n",
    "    ffd_hidden_dim=llm_config.ffd_dim_hidden,\n",
    "    ffd_bias=llm_config.ffd_bias,\n",
    ")\n",
    "\n",
    "params_size = sum(p.nelement() * p.element_size() for p in model.parameters())\n",
    "buffer_size = sum(p.nelement() * p.element_size() for p in model.buffers())\n",
    "size = (params_size + buffer_size) / 1024**2\n",
    "\n",
    "print(f\"total params: {sum(p.numel() for p in model.parameters()):,d}\")\n",
    "print(f\"model size: {size:.3f}MB\")\n",
    "\n",
    "# print(model)"
   ]
  },
  {
   "cell_type": "code",
   "execution_count": 8,
   "metadata": {},
   "outputs": [
    {
     "name": "stdout",
     "output_type": "stream",
     "text": [
      "Training on cuda.\n"
     ]
    },
    {
     "name": "stderr",
     "output_type": "stream",
     "text": [
      "/home/rene/miniconda3/envs/rapids-23.12/lib/python3.10/site-packages/tqdm/auto.py:21: TqdmWarning: IProgress not found. Please update jupyter and ipywidgets. See https://ipywidgets.readthedocs.io/en/stable/user_install.html\n",
      "  from .autonotebook import tqdm as notebook_tqdm\n"
     ]
    },
    {
     "name": "stdout",
     "output_type": "stream",
     "text": [
      "Step 273/1000 - LR:0.0025 - train_loss: 6.509\r"
     ]
    }
   ],
   "source": [
    "loss_history = train(\n",
    "    model,\n",
    "    ds_train,\n",
    "    train_config.device,\n",
    "    batch_size=train_config.batch_size,\n",
    "    lr=train_config.learning_rate,\n",
    "    max_steps=train_config.max_steps,\n",
    "    weight_decay=train_config.weight_decay,\n",
    "    log_every=train_config.log_frequency,\n",
    ")"
   ]
  },
  {
   "cell_type": "code",
   "execution_count": 11,
   "metadata": {},
   "outputs": [
    {
     "data": {
      "image/png": "[encoded data removed]",
      "text/plain": [
       "<Figure size 1200x400 with 1 Axes>"
      ]
     },
     "metadata": {},
     "output_type": "display_data"
    }
   ],
   "source": [
    "fig, ax = plt.subplots(figsize=(12, 4))\n",
    "ax.plot(range(len(loss_history[\"train_loss\"])), loss_history[\"train_loss\"])\n",
    "ax.set_xlabel(\"step\")\n",
    "ax.set_ylabel(\"cross entropy loss\")\n",
    "ax.grid(axis=\"y\")"
   ]
  },
  {
   "cell_type": "code",
   "execution_count": 16,
   "metadata": {},
   "outputs": [
    {
     "data": {
      "image/png": "[encoded data removed]",
      "text/plain": [
       "<Figure size 1200x400 with 1 Axes>"
      ]
     },
     "metadata": {},
     "output_type": "display_data"
    }
   ],
   "source": [
    "fig, ax = plt.subplots(figsize=(12, 4))\n",
    "ax.plot(range(len(loss_history[\"train_loss\"])), loss_history[\"train_loss\"])\n",
    "ax.set_xlabel(\"step\")\n",
    "ax.set_ylabel(\"cross entropy loss\")\n",
    "ax.grid(axis=\"y\")"
   ]
  },
  {
   "cell_type": "code",
   "execution_count": 17,
   "metadata": {},
   "outputs": [
    {
     "data": {
      "text/plain": [
       "'schlossen wurde. an der Jahrtausend wichtign vor sich gehen, daß ein g2 einfallenden Energie immerein großer Teilchen in'"
      ]
     },
     "execution_count": 17,
     "metadata": {},
     "output_type": "execute_result"
    }
   ],
   "source": [
    "# empty prompt to generate random stuff\n",
    "prompt = torch.full((1, llm_config.context_size), tokenizer.pad_id, dtype=torch.int32).to(train_config.device)\n",
    "out = model.generate(prompt, max_seq_len=30)\n",
    "tokenizer.decode(out)"
   ]
  },
  {
   "cell_type": "code",
   "execution_count": 18,
   "metadata": {},
   "outputs": [
    {
     "data": {
      "text/plain": [
       "'Schrödingers Gleichung beinhaltet sie - 1990 mit Resperfung theoretischand die Erlebung Rutherforder geformt, an die wir, eine von den'"
      ]
     },
     "execution_count": 18,
     "metadata": {},
     "output_type": "execute_result"
    }
   ],
   "source": [
    "# generate from a prompt\n",
    "prompt = (\n",
    "    tokenizer.encode(\n",
    "        \"Schrödingers Gleichung beinhaltet \",\n",
    "        beg_of_string=True,\n",
    "        pad_seq=True,\n",
    "        seq_len=llm_config.context_size,\n",
    "    )\n",
    "    .view(1, -1)\n",
    "    .to(train_config.device)\n",
    ")\n",
    "out = model.generate(prompt, max_seq_len=30)\n",
    "tokenizer.decode(out)"
   ]
  },
  {
   "cell_type": "code",
   "execution_count": 14,
   "metadata": {},
   "outputs": [
    {
     "data": {
      "text/plain": [
       "tensor([[   0,    0,    0,    0,    0,    0,    0,    0,    0,    0,    0,    0,\n",
       "            0,    0,    0,    0,    0,    0,    0,    0,    0,    0,    0,    0,\n",
       "            0,    0,    0,    0,    0,    0,    0,    0,    0,    0,    0,    0,\n",
       "            0,    0,    0,    0,    0,    0,    0,    0,    0,    0,    0,    0,\n",
       "            0,    0,    0,    0,    0,    0,    0,    0,    0,    0,    0,    0,\n",
       "            0,    0,    0,    0,    0,    0,    0,    0,    0,    0,    0,    0,\n",
       "            0,    0,    0,    0,    0,    0,    0,    0,    0,    0,    0,    0,\n",
       "            0,    0,    0,    0,    0,    0,    0,    0,    0,    0,    0,    0,\n",
       "            0,    0,    0,    0,    0,    0,    0,    0,    0,    0,    0,    0,\n",
       "            0,    0,    0,    0,    0,    0,    0,    0,    0,    0,    0,    0,\n",
       "            0,    0,    0,    0,    0,    0,    0,    0,    0,    0,    0,    0,\n",
       "            0,    0,    0,    0,    0,    0,    0,    0,    0,    0,    0,    0,\n",
       "            0,    0,    0,    0,    0,    0,    0,    0,    0,    0,    0,    0,\n",
       "            0,    0,    0,    0,    0,    0,    0,    0,    0,    0,    0,    0,\n",
       "            0,    0,    0,    0,    0,    0,    0,    0,    0,    0,    0,    0,\n",
       "            0,    0,    0,    0,    0,    0,    0,    0,    0,    0,    0,    0,\n",
       "            0,    0,    0,    0,    0,    0,    0,    0,    0,    0,    0,    0,\n",
       "            0,    0,    0,    0,    0,    0,    0,    0,    0,    0,    0,    0,\n",
       "            0,    0,    0,    0,    0,    0,    0,    0,    0,    0,    0,    0,\n",
       "            0,    0,    0,    0,    0,    0,    0,    0,    0,    0,    0,    0,\n",
       "            0,    0,    0,    0,    0,    0,    0,    0,    2, 1509,    9,  531,\n",
       "          128,   10,  506,  198,    8,  126,   13,   42,  153, 1071,  663,    8,\n",
       "          189,   16,  783,  117,  314,   37,   78,  232,   57,  119,  636,   80,\n",
       "           17,   57,   15,  846,    9,  105,    4,   49,    5,    8]],\n",
       "       device='cuda:0')"
      ]
     },
     "execution_count": 14,
     "metadata": {},
     "output_type": "execute_result"
    }
   ],
   "source": [
    "out"
   ]
  },
  {
   "cell_type": "code",
   "execution_count": 15,
   "metadata": {},
   "outputs": [
    {
     "name": "stdout",
     "output_type": "stream",
     "text": [
      "-rw-rw-r-- 1 rene rene  269703 Mär 30 20:16 data/shakespeare/tinyshakespeare.model\n",
      "-rw-rw-r-- 1 rene rene 1115393 Mär 30 20:16 data/shakespeare/tinyshakespeare.txt\n",
      "-rw-rw-r-- 1 rene rene   33763 Mär 30 20:16 data/shakespeare/tinyshakespeare.vocab\n"
     ]
    }
   ],
   "source": [
    "!ls -al data/shakespeare/ti*\n"
   ]
  },
  {
   "cell_type": "code",
   "execution_count": 16,
   "metadata": {},
   "outputs": [
    {
     "ename": "NameError",
     "evalue": "name 'AT0010000000000000001000001713033' is not defined",
     "output_type": "error",
     "traceback": [
      "\u001b[0;31m---------------------------------------------------------------------------\u001b[0m",
      "\u001b[0;31mNameError\u001b[0m                                 Traceback (most recent call last)",
      "Cell \u001b[0;32mIn[16], line 1\u001b[0m\n\u001b[0;32m----> 1\u001b[0m \u001b[43mAT0010000000000000001000001713033\u001b[49m\n",
      "\u001b[0;31mNameError\u001b[0m: name 'AT0010000000000000001000001713033' is not defined"
     ]
    }
   ],
   "source": [
    "AT0010000000000000001000001713033"
   ]
  }
 ],
 "metadata": {
  "kernelspec": {
   "display_name": "Python 3 (ipykernel)",
   "language": "python",
   "name": "python3"
  },
  "language_info": {
   "codemirror_mode": {
    "name": "ipython",
    "version": 3
   },
   "file_extension": ".py",
   "mimetype": "text/x-python",
   "name": "python",
   "nbconvert_exporter": "python",
   "pygments_lexer": "ipython3",
   "version": "3.10.13"
  }
 },
 "nbformat": 4,
 "nbformat_minor": 2
}
